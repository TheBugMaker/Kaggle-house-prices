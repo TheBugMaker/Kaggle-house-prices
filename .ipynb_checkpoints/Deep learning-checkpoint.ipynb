{
 "cells": [
  {
   "cell_type": "markdown",
   "metadata": {},
   "source": [
    "let's load our data\n",
    "PS: if the folowing line fails to execute you probably need to run \"Feature engineering and exploration\" notebook first"
   ]
  },
  {
   "cell_type": "code",
   "execution_count": 11,
   "metadata": {},
   "outputs": [],
   "source": [
    "%store -r train_X\n",
    "%store -r train_y\n",
    "%store -r test\n",
    "%store -r df_test\n",
    "%store -r features_scores"
   ]
  },
  {
   "cell_type": "code",
   "execution_count": 12,
   "metadata": {},
   "outputs": [],
   "source": [
    "import pandas as pd\n",
    "from sklearn.metrics import mean_squared_error\n",
    "from sklearn.model_selection import train_test_split\n",
    "from sklearn.preprocessing import StandardScaler, RobustScaler\n",
    "import numpy as np\n",
    "from keras.models import Model\n",
    "from keras.layers import *\n",
    "import matplotlib.pyplot as plt\n",
    "%matplotlib inline"
   ]
  },
  {
   "cell_type": "markdown",
   "metadata": {},
   "source": [
    "Select which feature to use based on the score from XGBoost model"
   ]
  },
  {
   "cell_type": "code",
   "execution_count": 13,
   "metadata": {},
   "outputs": [],
   "source": [
    "top_features = features_scores[:50]['feat'].values"
   ]
  },
  {
   "cell_type": "markdown",
   "metadata": {},
   "source": [
    "Neural networks are sensitive to features scale for that we should normalise our features"
   ]
  },
  {
   "cell_type": "code",
   "execution_count": 14,
   "metadata": {},
   "outputs": [
    {
     "name": "stderr",
     "output_type": "stream",
     "text": [
      "/home/ghassen/anaconda3/lib/python3.6/site-packages/sklearn/preprocessing/data.py:645: DataConversionWarning: Data with input dtype uint8, int64, float64 were all converted to float64 by StandardScaler.\n",
      "  return self.partial_fit(X, y)\n",
      "/home/ghassen/anaconda3/lib/python3.6/site-packages/sklearn/base.py:464: DataConversionWarning: Data with input dtype uint8, int64, float64 were all converted to float64 by StandardScaler.\n",
      "  return self.fit(X, **fit_params).transform(X)\n",
      "/home/ghassen/anaconda3/lib/python3.6/site-packages/ipykernel_launcher.py:3: DataConversionWarning: Data with input dtype uint8, int64, float64 were all converted to float64 by StandardScaler.\n",
      "  This is separate from the ipykernel package so we can avoid doing imports until\n"
     ]
    }
   ],
   "source": [
    "sc=StandardScaler()\n",
    "train_X=sc.fit_transform(train_X[top_features])\n",
    "test=sc.transform(test[top_features])"
   ]
  },
  {
   "cell_type": "code",
   "execution_count": 19,
   "metadata": {},
   "outputs": [],
   "source": [
    "num_features = len(top_features)\n",
    "inputs = Input(shape=(num_features,))\n",
    "x = Dense(num_features * 2 )(inputs)\n",
    "x1 = Dropout(0.2)(x)\n",
    "x1 = Dense(num_features * 2 ,activation='relu')(x1)\n",
    "x1 = Dropout(0.2)(x1)\n",
    "x1 = Dense(num_features * 2 ,activation='relu')(x1)\n",
    "x1 = Dropout(0.2)(x1)\n",
    "x1 = Dense(num_features * 2 ,activation='relu')(x1)\n",
    "output = Dense(1,activation='linear')(x1)\n",
    "model = Model(inputs=inputs, outputs=output)\n",
    "model.compile(optimizer='adam', loss='mse')"
   ]
  },
  {
   "cell_type": "code",
   "execution_count": 21,
   "metadata": {
    "collapsed": true
   },
   "outputs": [
    {
     "name": "stdout",
     "output_type": "stream",
     "text": [
      "Epoch 1/100\n",
      "1460/1460 [==============================] - 2s 1ms/step - loss: 39028468996.9096\n",
      "Epoch 2/100\n",
      "1460/1460 [==============================] - 0s 124us/step - loss: 37844771399.5397\n",
      "Epoch 3/100\n",
      "1460/1460 [==============================] - 0s 123us/step - loss: 20228674638.5534\n",
      "Epoch 4/100\n",
      "1460/1460 [==============================] - 0s 125us/step - loss: 9866594166.5315\n",
      "Epoch 5/100\n",
      "1460/1460 [==============================] - 0s 119us/step - loss: 8898405777.1836\n",
      "Epoch 6/100\n",
      "1460/1460 [==============================] - 0s 126us/step - loss: 8413927850.4329\n",
      "Epoch 7/100\n",
      "1460/1460 [==============================] - 0s 116us/step - loss: 7429965529.4247\n",
      "Epoch 8/100\n",
      "1460/1460 [==============================] - 0s 124us/step - loss: 6860157967.4301\n",
      "Epoch 9/100\n",
      "1460/1460 [==============================] - 0s 128us/step - loss: 5971902128.0438\n",
      "Epoch 10/100\n",
      "1460/1460 [==============================] - 0s 128us/step - loss: 5124092142.4658\n",
      "Epoch 11/100\n",
      "1460/1460 [==============================] - 0s 127us/step - loss: 4183613259.0466\n",
      "Epoch 12/100\n",
      "1460/1460 [==============================] - 0s 128us/step - loss: 3597264325.0849\n",
      "Epoch 13/100\n",
      "1460/1460 [==============================] - 0s 123us/step - loss: 3349746382.2027\n",
      "Epoch 14/100\n",
      "1460/1460 [==============================] - 0s 128us/step - loss: 2834006186.4329\n",
      "Epoch 15/100\n",
      "1460/1460 [==============================] - 0s 124us/step - loss: 2698393012.2521\n",
      "Epoch 16/100\n",
      "1460/1460 [==============================] - 0s 125us/step - loss: 2662095491.1562\n",
      "Epoch 17/100\n",
      "1460/1460 [==============================] - 0s 124us/step - loss: 2543172339.0247\n",
      "Epoch 18/100\n",
      "1460/1460 [==============================] - 0s 129us/step - loss: 2385590516.0767\n",
      "Epoch 19/100\n",
      "1460/1460 [==============================] - 0s 123us/step - loss: 2314510731.5726\n",
      "Epoch 20/100\n",
      "1460/1460 [==============================] - 0s 120us/step - loss: 2169092204.7123\n",
      "Epoch 21/100\n",
      "1460/1460 [==============================] - 0s 119us/step - loss: 2139036483.3315\n",
      "Epoch 22/100\n",
      "1460/1460 [==============================] - 0s 124us/step - loss: 2028128535.8466\n",
      "Epoch 23/100\n",
      "1460/1460 [==============================] - 0s 127us/step - loss: 2096446069.1288\n",
      "Epoch 24/100\n",
      "1460/1460 [==============================] - 0s 128us/step - loss: 1968986472.5041\n",
      "Epoch 25/100\n",
      "1460/1460 [==============================] - 0s 126us/step - loss: 1907633830.2247\n",
      "Epoch 26/100\n",
      "1460/1460 [==============================] - 0s 124us/step - loss: 1879389806.4658\n",
      "Epoch 27/100\n",
      "1460/1460 [==============================] - 0s 121us/step - loss: 1757996896.4384\n",
      "Epoch 28/100\n",
      "1460/1460 [==============================] - 0s 122us/step - loss: 1716886133.8301\n",
      "Epoch 29/100\n",
      "1460/1460 [==============================] - 0s 124us/step - loss: 1818985330.3233\n",
      "Epoch 30/100\n",
      "1460/1460 [==============================] - 0s 127us/step - loss: 1824467915.3973\n",
      "Epoch 31/100\n",
      "1460/1460 [==============================] - 0s 124us/step - loss: 1632146086.9260\n",
      "Epoch 32/100\n",
      "1460/1460 [==============================] - 0s 128us/step - loss: 1595143574.7945\n",
      "Epoch 33/100\n",
      "1460/1460 [==============================] - 0s 126us/step - loss: 1630172141.4137\n",
      "Epoch 34/100\n",
      "1460/1460 [==============================] - 0s 120us/step - loss: 1607068196.4712\n",
      "Epoch 35/100\n",
      "1460/1460 [==============================] - 0s 121us/step - loss: 1701103111.3644\n",
      "Epoch 36/100\n",
      "1460/1460 [==============================] - 0s 126us/step - loss: 1568727931.7918\n",
      "Epoch 37/100\n",
      "1460/1460 [==============================] - 0s 125us/step - loss: 1674395961.8630\n",
      "Epoch 38/100\n",
      "1460/1460 [==============================] - 0s 125us/step - loss: 1686392829.8959\n",
      "Epoch 39/100\n",
      "1460/1460 [==============================] - 0s 124us/step - loss: 1431939422.7726\n",
      "Epoch 40/100\n",
      "1460/1460 [==============================] - 0s 125us/step - loss: 1401766883.2438\n",
      "Epoch 41/100\n",
      "1460/1460 [==============================] - 0s 124us/step - loss: 1476141006.2027\n",
      "Epoch 42/100\n",
      "1460/1460 [==============================] - 0s 119us/step - loss: 1372233702.0493\n",
      "Epoch 43/100\n",
      "1460/1460 [==============================] - 0s 122us/step - loss: 1512232877.5890\n",
      "Epoch 44/100\n",
      "1460/1460 [==============================] - 0s 129us/step - loss: 1448741125.7863\n",
      "Epoch 45/100\n",
      "1460/1460 [==============================] - 0s 125us/step - loss: 1489265760.6137\n",
      "Epoch 46/100\n",
      "1460/1460 [==============================] - 0s 128us/step - loss: 1458572502.0932\n",
      "Epoch 47/100\n",
      "1460/1460 [==============================] - 0s 128us/step - loss: 1456774003.0247\n",
      "Epoch 48/100\n",
      "1460/1460 [==============================] - 0s 127us/step - loss: 1438089480.7671\n",
      "Epoch 49/100\n",
      "1460/1460 [==============================] - 0s 125us/step - loss: 1438260345.1616\n",
      "Epoch 50/100\n",
      "1460/1460 [==============================] - 0s 116us/step - loss: 1294478394.9151\n",
      "Epoch 51/100\n",
      "1460/1460 [==============================] - 0s 122us/step - loss: 1419377200.0438\n",
      "Epoch 52/100\n",
      "1460/1460 [==============================] - 0s 122us/step - loss: 1381169759.7370\n",
      "Epoch 53/100\n",
      "1460/1460 [==============================] - 0s 126us/step - loss: 1322235729.7096\n",
      "Epoch 54/100\n",
      "1460/1460 [==============================] - 0s 128us/step - loss: 1360145982.9479\n",
      "Epoch 55/100\n",
      "1460/1460 [==============================] - 0s 125us/step - loss: 1310420288.8767\n",
      "Epoch 56/100\n",
      "1460/1460 [==============================] - 0s 122us/step - loss: 1443132086.3562\n",
      "Epoch 57/100\n",
      "1460/1460 [==============================] - 0s 119us/step - loss: 1341178792.1534\n",
      "Epoch 58/100\n",
      "1460/1460 [==============================] - 0s 127us/step - loss: 1282534013.1945\n",
      "Epoch 59/100\n",
      "1460/1460 [==============================] - 0s 125us/step - loss: 1340483316.2521\n",
      "Epoch 60/100\n",
      "1460/1460 [==============================] - 0s 126us/step - loss: 1290314302.7726\n",
      "Epoch 61/100\n",
      "1460/1460 [==============================] - 0s 126us/step - loss: 1345101805.5890\n",
      "Epoch 62/100\n",
      "1460/1460 [==============================] - 0s 125us/step - loss: 1426217647.3425\n",
      "Epoch 63/100\n",
      "1460/1460 [==============================] - 0s 124us/step - loss: 1348190344.2411\n",
      "Epoch 64/100\n",
      "1460/1460 [==============================] - 0s 119us/step - loss: 1275385961.7315\n",
      "Epoch 65/100\n",
      "1460/1460 [==============================] - 0s 124us/step - loss: 1280542355.9014\n",
      "Epoch 66/100\n",
      "1460/1460 [==============================] - 0s 118us/step - loss: 1263887220.7781\n",
      "Epoch 67/100\n",
      "1460/1460 [==============================] - 0s 119us/step - loss: 1331812206.2027\n",
      "Epoch 68/100\n",
      "1460/1460 [==============================] - 0s 121us/step - loss: 1307153208.1096\n",
      "Epoch 69/100\n",
      "1460/1460 [==============================] - 0s 125us/step - loss: 1165878543.0795\n",
      "Epoch 70/100\n",
      "1460/1460 [==============================] - 0s 126us/step - loss: 1240990270.3342\n",
      "Epoch 71/100\n",
      "1460/1460 [==============================] - 0s 120us/step - loss: 1277375947.7479\n",
      "Epoch 72/100\n",
      "1460/1460 [==============================] - 0s 126us/step - loss: 1256138298.2137\n",
      "Epoch 73/100\n",
      "1460/1460 [==============================] - 0s 127us/step - loss: 1176841138.8493\n",
      "Epoch 74/100\n",
      "1460/1460 [==============================] - 0s 124us/step - loss: 1233757395.8137\n",
      "Epoch 75/100\n",
      "1460/1460 [==============================] - 0s 128us/step - loss: 1164731323.2658\n",
      "Epoch 76/100\n",
      "1460/1460 [==============================] - 0s 127us/step - loss: 1173609647.5178\n",
      "Epoch 77/100\n",
      "1460/1460 [==============================] - 0s 122us/step - loss: 1302956226.8055\n",
      "Epoch 78/100\n",
      "1460/1460 [==============================] - 0s 125us/step - loss: 1145316309.5671\n",
      "Epoch 79/100\n",
      "1460/1460 [==============================] - 0s 120us/step - loss: 1196437471.5616\n",
      "Epoch 80/100\n",
      "1460/1460 [==============================] - 0s 125us/step - loss: 1311244139.4849\n",
      "Epoch 81/100\n",
      "1460/1460 [==============================] - 0s 124us/step - loss: 1180789426.1479\n",
      "Epoch 82/100\n",
      "1460/1460 [==============================] - 0s 127us/step - loss: 1230896070.8384\n",
      "Epoch 83/100\n",
      "1460/1460 [==============================] - 0s 126us/step - loss: 1182430254.9918\n",
      "Epoch 84/100\n",
      "1460/1460 [==============================] - 0s 127us/step - loss: 1247484323.0685\n",
      "Epoch 85/100\n",
      "1460/1460 [==============================] - 0s 119us/step - loss: 1168765273.4247\n",
      "Epoch 86/100\n",
      "1460/1460 [==============================] - 0s 123us/step - loss: 1170968076.7123\n",
      "Epoch 87/100\n",
      "1460/1460 [==============================] - 0s 121us/step - loss: 1176284740.7342\n",
      "Epoch 88/100\n",
      "1460/1460 [==============================] - 0s 127us/step - loss: 1297399089.9726\n",
      "Epoch 89/100\n",
      "1460/1460 [==============================] - 0s 122us/step - loss: 1156584417.9288\n",
      "Epoch 90/100\n",
      "1460/1460 [==============================] - 0s 125us/step - loss: 1275977791.2110\n",
      "Epoch 91/100\n",
      "1460/1460 [==============================] - 0s 119us/step - loss: 1234144854.2685\n",
      "Epoch 92/100\n",
      "1460/1460 [==============================] - 0s 121us/step - loss: 1181481883.1781\n",
      "Epoch 93/100\n",
      "1460/1460 [==============================] - 0s 124us/step - loss: 1227515804.9315\n",
      "Epoch 94/100\n",
      "1460/1460 [==============================] - 0s 125us/step - loss: 1209160997.5233\n",
      "Epoch 95/100\n",
      "1460/1460 [==============================] - 0s 118us/step - loss: 1352185106.0603\n",
      "Epoch 96/100\n",
      "1460/1460 [==============================] - 0s 126us/step - loss: 1228512146.2356\n",
      "Epoch 97/100\n",
      "1460/1460 [==============================] - 0s 127us/step - loss: 1184267323.2658\n",
      "Epoch 98/100\n",
      "1460/1460 [==============================] - 0s 124us/step - loss: 1196065616.6575\n",
      "Epoch 99/100\n",
      "1460/1460 [==============================] - 0s 122us/step - loss: 1185437297.6219\n",
      "Epoch 100/100\n",
      "1460/1460 [==============================] - 0s 123us/step - loss: 1182253004.1863\n"
     ]
    }
   ],
   "source": [
    "history = model.fit(train_X,train_y,epochs=100)"
   ]
  },
  {
   "cell_type": "code",
   "execution_count": 23,
   "metadata": {},
   "outputs": [
    {
     "name": "stdout",
     "output_type": "stream",
     "text": [
      "Root Mean Squarred Error Train: 27650.552308581417\n"
     ]
    }
   ],
   "source": [
    "predictions_train = model.predict(train_X)\n",
    "print(\"Root Mean Squarred Error Train: \" + str(np.sqrt( mean_squared_error(predictions_train, train_y))))\n",
    " "
   ]
  },
  {
   "cell_type": "markdown",
   "metadata": {},
   "source": [
    "generate our submission file"
   ]
  },
  {
   "cell_type": "code",
   "execution_count": 34,
   "metadata": {},
   "outputs": [],
   "source": [
    "preds = model.predict(test)\n",
    "output=pd.DataFrame({'Id':df_test['Id'], 'SalePrice':preds.reshape((-1,))})\n",
    "output.to_csv('submission_NN.csv', index=False)\n"
   ]
  }
 ],
 "metadata": {
  "kernelspec": {
   "display_name": "Python 3",
   "language": "python",
   "name": "python3"
  },
  "language_info": {
   "codemirror_mode": {
    "name": "ipython",
    "version": 3
   },
   "file_extension": ".py",
   "mimetype": "text/x-python",
   "name": "python",
   "nbconvert_exporter": "python",
   "pygments_lexer": "ipython3",
   "version": "3.6.4"
  }
 },
 "nbformat": 4,
 "nbformat_minor": 2
}
