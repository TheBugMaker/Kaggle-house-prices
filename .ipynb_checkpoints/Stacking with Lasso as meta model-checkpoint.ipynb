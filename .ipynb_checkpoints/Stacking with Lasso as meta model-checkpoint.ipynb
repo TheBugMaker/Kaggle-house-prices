{
 "cells": [
  {
   "cell_type": "markdown",
   "metadata": {},
   "source": [
    "let's load our data  \n",
    "PS: if the folowing line fails to execute you probably need to run \"Feature engineering and exploration\" notebook first and then all the others since we will be working on the output of each model"
   ]
  },
  {
   "cell_type": "code",
   "execution_count": 19,
   "metadata": {},
   "outputs": [],
   "source": [
    "%store -r forest_predictions_train\n",
    "%store -r xgboost_predictions_train\n",
    "%store -r lasso_predictions_train\n",
    "%store -r forest_predictions_test\n",
    "%store -r xgboost_predictions_test\n",
    "%store -r lasso_predictions_test\n",
    "%store -r test\n",
    "%store -r df_test\n",
    "%store -r train_y"
   ]
  },
  {
   "cell_type": "code",
   "execution_count": 20,
   "metadata": {},
   "outputs": [],
   "source": [
    "import pandas as pd\n",
    "from sklearn.metrics import mean_squared_error\n",
    "from sklearn.model_selection import train_test_split\n",
    "import numpy as np\n",
    "from sklearn.preprocessing import StandardScaler, RobustScaler\n",
    "from sklearn.linear_model import Lasso, LassoCV\n",
    "import matplotlib.pyplot as plt\n",
    "%matplotlib inline"
   ]
  },
  {
   "cell_type": "code",
   "execution_count": 24,
   "metadata": {
    "scrolled": false
   },
   "outputs": [
    {
     "data": {
      "text/plain": [
       "((1460,), (1460,), (1460,))"
      ]
     },
     "execution_count": 24,
     "metadata": {},
     "output_type": "execute_result"
    }
   ],
   "source": [
    "lasso_predictions_train.shape,xgboost_predictions_train.shape,forest_predictions_train.shape"
   ]
  },
  {
   "cell_type": "markdown",
   "metadata": {},
   "source": [
    "Concat the prediction of previous model to generate the input to our meta model "
   ]
  },
  {
   "cell_type": "code",
   "execution_count": 28,
   "metadata": {},
   "outputs": [
    {
     "data": {
      "text/plain": [
       "((1460, 2), (1459, 2))"
      ]
     },
     "execution_count": 28,
     "metadata": {},
     "output_type": "execute_result"
    }
   ],
   "source": [
    "X_train = np.hstack((lasso_predictions_train.reshape(-1,1) ,xgboost_predictions_train.reshape(-1,1)  ))\n",
    "X_test = np.hstack((lasso_predictions_test.reshape(-1,1) ,xgboost_predictions_test.reshape(-1,1)  ))\n",
    "\n",
    "X_train.shape,X_test.shape"
   ]
  },
  {
   "cell_type": "code",
   "execution_count": 29,
   "metadata": {},
   "outputs": [],
   "source": [
    "reg = LassoCV(cv=5, random_state=42).fit(X_train, train_y)"
   ]
  },
  {
   "cell_type": "markdown",
   "metadata": {},
   "source": [
    "generate our submission file"
   ]
  },
  {
   "cell_type": "code",
   "execution_count": 30,
   "metadata": {},
   "outputs": [],
   "source": [
    "preds = reg.predict(X_test)\n",
    "output=pd.DataFrame({'Id':df_test['Id'], 'SalePrice':preds})\n",
    "output.to_csv('submission_stacking.csv', index=False)"
   ]
  }
 ],
 "metadata": {
  "kernelspec": {
   "display_name": "Python 3",
   "language": "python",
   "name": "python3"
  },
  "language_info": {
   "codemirror_mode": {
    "name": "ipython",
    "version": 3
   },
   "file_extension": ".py",
   "mimetype": "text/x-python",
   "name": "python",
   "nbconvert_exporter": "python",
   "pygments_lexer": "ipython3",
   "version": "3.6.4"
  }
 },
 "nbformat": 4,
 "nbformat_minor": 2
}
