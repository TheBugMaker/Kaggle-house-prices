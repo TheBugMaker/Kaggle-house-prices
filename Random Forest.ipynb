{
 "cells": [
  {
   "cell_type": "markdown",
   "metadata": {},
   "source": [
    "let's load our data\n",
    "PS: if the folowing line fails to execute you probably need to run \"Feature engineering and exploration\" notebook first"
   ]
  },
  {
   "cell_type": "code",
   "execution_count": 73,
   "metadata": {},
   "outputs": [],
   "source": [
    "%store -r train_X\n",
    "%store -r train_y\n",
    "%store -r test\n",
    "%store -r df_test\n",
    "%store -r features_scores"
   ]
  },
  {
   "cell_type": "code",
   "execution_count": 74,
   "metadata": {},
   "outputs": [],
   "source": [
    "import pandas as pd\n",
    "from sklearn.metrics import mean_squared_error\n",
    "from sklearn.model_selection import train_test_split\n",
    "import numpy as np\n",
    "from sklearn.preprocessing import StandardScaler, RobustScaler\n",
    "from sklearn.ensemble import RandomForestRegressor\n",
    "import matplotlib.pyplot as plt\n",
    "%matplotlib inline"
   ]
  },
  {
   "cell_type": "markdown",
   "metadata": {},
   "source": [
    "create a validation and train set"
   ]
  },
  {
   "cell_type": "code",
   "execution_count": 75,
   "metadata": {},
   "outputs": [],
   "source": [
    "all_train_X, all_train_y = train_X, train_y\n",
    "train_X, val_X, train_y, val_y = train_test_split(train_X, train_y, random_state=42, test_size=0.25)"
   ]
  },
  {
   "cell_type": "markdown",
   "metadata": {},
   "source": [
    "It proves helpfull to feed our model only 150 of the top performing features"
   ]
  },
  {
   "cell_type": "code",
   "execution_count": 76,
   "metadata": {},
   "outputs": [],
   "source": [
    "top_features = features_scores[:150]['feat'].values\n",
    "\n",
    "train_X= (train_X[top_features])\n",
    "val_X= (val_X[top_features])\n",
    "\n",
    "test=(test[top_features])"
   ]
  },
  {
   "cell_type": "code",
   "execution_count": 68,
   "metadata": {},
   "outputs": [
    {
     "data": {
      "text/plain": [
       "RandomForestRegressor(bootstrap=True, criterion='mse', max_depth=100,\n",
       "           max_features='auto', max_leaf_nodes=None,\n",
       "           min_impurity_decrease=0.0, min_impurity_split=None,\n",
       "           min_samples_leaf=1, min_samples_split=2,\n",
       "           min_weight_fraction_leaf=0.0, n_estimators=300, n_jobs=None,\n",
       "           oob_score=False, random_state=42, verbose=0, warm_start=False)"
      ]
     },
     "execution_count": 68,
     "metadata": {},
     "output_type": "execute_result"
    }
   ],
   "source": [
    "regr = RandomForestRegressor(max_depth=100, random_state=42,criterion='mse', n_estimators=300)\n",
    "regr.fit(train_X,train_y)"
   ]
  },
  {
   "cell_type": "code",
   "execution_count": 69,
   "metadata": {},
   "outputs": [
    {
     "name": "stdout",
     "output_type": "stream",
     "text": [
      "Root Mean Squarred Error Train: 10914.326841873868\n",
      "Root Mean Squarred Error Valid: 26478.87696748692\n"
     ]
    }
   ],
   "source": [
    "predictions = regr.predict(val_X)\n",
    "predictions_train = regr.predict(train_X)\n",
    "print(\"Root Mean Squarred Error Train: \" + str(np.sqrt( mean_squared_error(predictions_train, train_y))))\n",
    "print(\"Root Mean Squarred Error Valid: \" + str(np.sqrt( mean_squared_error(predictions, val_y))))"
   ]
  },
  {
   "cell_type": "code",
   "execution_count": 42,
   "metadata": {},
   "outputs": [
    {
     "data": {
      "text/plain": [
       "(0.974470430694023, 0.894860457934442)"
      ]
     },
     "execution_count": 42,
     "metadata": {},
     "output_type": "execute_result"
    }
   ],
   "source": [
    "regr.score(train_X,train_y),regr.score(val_X,val_y)"
   ]
  },
  {
   "cell_type": "markdown",
   "metadata": {},
   "source": [
    "generate our submission file"
   ]
  },
  {
   "cell_type": "code",
   "execution_count": 77,
   "metadata": {},
   "outputs": [],
   "source": [
    "regr = RandomForestRegressor(max_depth=100, random_state=42,criterion='mse', n_estimators=300)\n",
    "regr.fit(all_train_X[top_features],all_train_y)\n",
    "\n",
    "preds = regr.predict(test)\n",
    "output=pd.DataFrame({'Id':df_test['Id'], 'SalePrice':preds})\n",
    "output.to_csv('submission_forest.csv', index=False)"
   ]
  },
  {
   "cell_type": "markdown",
   "metadata": {},
   "source": [
    "We do also export model's prediction to be used later with stacking and training a meta model"
   ]
  },
  {
   "cell_type": "code",
   "execution_count": 81,
   "metadata": {},
   "outputs": [
    {
     "name": "stdout",
     "output_type": "stream",
     "text": [
      "Stored 'forest_predictions_train' (ndarray)\n",
      "Stored 'forest_predictions_test' (ndarray)\n"
     ]
    }
   ],
   "source": [
    "forest_predictions_train = regr.predict(all_train_X[top_features])\n",
    "forest_predictions_test =regr.predict(test)\n",
    "%store forest_predictions_train\n",
    "%store forest_predictions_test"
   ]
  }
 ],
 "metadata": {
  "kernelspec": {
   "display_name": "Python 3",
   "language": "python",
   "name": "python3"
  },
  "language_info": {
   "codemirror_mode": {
    "name": "ipython",
    "version": 3
   },
   "file_extension": ".py",
   "mimetype": "text/x-python",
   "name": "python",
   "nbconvert_exporter": "python",
   "pygments_lexer": "ipython3",
   "version": "3.6.4"
  }
 },
 "nbformat": 4,
 "nbformat_minor": 2
}
