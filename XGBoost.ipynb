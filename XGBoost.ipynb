{
 "cells": [
  {
   "cell_type": "markdown",
   "metadata": {},
   "source": [
    "let's load our data\n",
    "PS: if the folowing line fails to execute you probably need to run \"Feature engineering and exploration\" notebook first"
   ]
  },
  {
   "cell_type": "code",
   "execution_count": 40,
   "metadata": {},
   "outputs": [],
   "source": [
    "%store -r train_X\n",
    "%store -r train_y\n",
    "%store -r test\n",
    "%store -r df_test"
   ]
  },
  {
   "cell_type": "code",
   "execution_count": 41,
   "metadata": {},
   "outputs": [],
   "source": [
    "import pandas as pd\n",
    "from sklearn.metrics import mean_squared_error\n",
    "from sklearn.model_selection import train_test_split\n",
    "import numpy as np\n",
    "from xgboost import XGBRegressor\n",
    "import matplotlib.pyplot as plt\n",
    "%matplotlib inline"
   ]
  },
  {
   "cell_type": "markdown",
   "metadata": {},
   "source": [
    "create a validation and train set"
   ]
  },
  {
   "cell_type": "code",
   "execution_count": 42,
   "metadata": {},
   "outputs": [],
   "source": [
    "all_train_X, all_train_y = train_X, train_y\n",
    "train_X, val_X, train_y, val_y = train_test_split(train_X, train_y, random_state=42, test_size=0.25)"
   ]
  },
  {
   "cell_type": "markdown",
   "metadata": {},
   "source": [
    "run xgboost regressor with enabling early stop to try to prevent overfitting and discovering a suitable number of estimators"
   ]
  },
  {
   "cell_type": "code",
   "execution_count": 43,
   "metadata": {},
   "outputs": [
    {
     "name": "stderr",
     "output_type": "stream",
     "text": [
      "/home/ghassen/anaconda3/lib/python3.6/site-packages/xgboost/core.py:587: FutureWarning: Series.base is deprecated and will be removed in a future version\n",
      "  if getattr(data, 'base', None) is not None and \\\n"
     ]
    },
    {
     "name": "stdout",
     "output_type": "stream",
     "text": [
      "487\n"
     ]
    },
    {
     "data": {
      "text/plain": [
       "<matplotlib.axes._subplots.AxesSubplot at 0x7fee340b6c50>"
      ]
     },
     "execution_count": 43,
     "metadata": {},
     "output_type": "execute_result"
    },
    {
     "data": {
      "image/png": "[encoded data removed]",
      "text/plain": [
       "<Figure size 432x288 with 1 Axes>"
      ]
     },
     "metadata": {},
     "output_type": "display_data"
    }
   ],
   "source": [
    "xg_model = XGBRegressor(n_estimators=10000, objective ='reg:linear' , learning_rate=0.1,max_depth=3)\n",
    "xg_model.fit(train_X, train_y, early_stopping_rounds=50,\n",
    "             eval_set=[(val_X, val_y)], verbose=False)\n",
    "max_estimators = len(xg_model.evals_result()['validation_0']['rmse'])\n",
    "print(max_estimators)\n",
    "pd.DataFrame(xg_model.evals_result()['validation_0']['rmse'], columns=['rmse']).plot()"
   ]
  },
  {
   "cell_type": "code",
   "execution_count": 44,
   "metadata": {
    "scrolled": true
   },
   "outputs": [
    {
     "name": "stdout",
     "output_type": "stream",
     "text": [
      "Root Mean Squarred Error Train: 7056.047507783549\n",
      "Root Mean Squarred Error Valid: 27619.051606964138\n"
     ]
    }
   ],
   "source": [
    "predictions = xg_model.predict(val_X)\n",
    "predictions_train = xg_model.predict(train_X)\n",
    "print(\"Root Mean Squarred Error Train: \" + str(np.sqrt( mean_squared_error(predictions_train, train_y))))\n",
    "print(\"Root Mean Squarred Error Valid: \" + str(np.sqrt( mean_squared_error(predictions, val_y))))"
   ]
  },
  {
   "cell_type": "markdown",
   "metadata": {},
   "source": [
    "after playing arround with parameters and observing their effect on the validationg set. We should move on and train our model on the hole dataset"
   ]
  },
  {
   "cell_type": "code",
   "execution_count": 45,
   "metadata": {
    "scrolled": false
   },
   "outputs": [
    {
     "name": "stderr",
     "output_type": "stream",
     "text": [
      "/home/ghassen/anaconda3/lib/python3.6/site-packages/xgboost/core.py:587: FutureWarning: Series.base is deprecated and will be removed in a future version\n",
      "  if getattr(data, 'base', None) is not None and \\\n",
      "/home/ghassen/anaconda3/lib/python3.6/site-packages/xgboost/core.py:588: FutureWarning: Series.base is deprecated and will be removed in a future version\n",
      "  data.base is not None and isinstance(data, np.ndarray) \\\n"
     ]
    },
    {
     "data": {
      "text/plain": [
       "XGBRegressor(base_score=0.5, booster='gbtree', colsample_bylevel=1,\n",
       "       colsample_bytree=1, gamma=0, importance_type='gain',\n",
       "       learning_rate=0.1, max_delta_step=0, max_depth=2,\n",
       "       min_child_weight=1, missing=None, n_estimators=500, n_jobs=1,\n",
       "       nthread=None, objective='reg:linear', random_state=0, reg_alpha=0,\n",
       "       reg_lambda=1, scale_pos_weight=1, seed=None, silent=True,\n",
       "       subsample=1)"
      ]
     },
     "execution_count": 45,
     "metadata": {},
     "output_type": "execute_result"
    }
   ],
   "source": [
    "xg_model = XGBRegressor(n_estimators=500, objective ='reg:linear' , learning_rate=0.1,max_depth=2)\n",
    "\n",
    "xg_model.fit(all_train_X, all_train_y, verbose=False)"
   ]
  },
  {
   "cell_type": "markdown",
   "metadata": {},
   "source": [
    "generate our submission file"
   ]
  },
  {
   "cell_type": "code",
   "execution_count": 46,
   "metadata": {},
   "outputs": [],
   "source": [
    "preds = xg_model.predict(test)\n",
    "output=pd.DataFrame({'Id':df_test['Id'], 'SalePrice':preds})\n",
    "output.to_csv('submission.csv', index=False)"
   ]
  },
  {
   "cell_type": "markdown",
   "metadata": {},
   "source": [
    "Xgboost have a neat property wich allows us to gain some insights on the importance of features.\n",
    "We should store these features since it might be usefull for feature selection when working on different models"
   ]
  },
  {
   "cell_type": "code",
   "execution_count": 47,
   "metadata": {},
   "outputs": [
    {
     "name": "stdout",
     "output_type": "stream",
     "text": [
      "Stored 'features_scores' (DataFrame)\n"
     ]
    }
   ],
   "source": [
    "features_scores = pd.DataFrame({\"feat\" : all_train_X.columns, 'score' : xg_model.feature_importances_}) \n",
    "features_scores.sort_values(by=[\"score\"], inplace =True , ascending=False) \n",
    "%store features_scores"
   ]
  },
  {
   "cell_type": "markdown",
   "metadata": {},
   "source": [
    "We do also export model's prediction to be used later with stacking and training a meta model"
   ]
  },
  {
   "cell_type": "code",
   "execution_count": 48,
   "metadata": {},
   "outputs": [
    {
     "name": "stdout",
     "output_type": "stream",
     "text": [
      "Stored 'xgboost_predictions_train' (ndarray)\n",
      "Stored 'xgboost_predictions_test' (ndarray)\n"
     ]
    }
   ],
   "source": [
    "xgboost_predictions_train = xg_model.predict(all_train_X)\n",
    "xgboost_predictions_test = xg_model.predict(test)\n",
    "%store xgboost_predictions_train\n",
    "%store xgboost_predictions_test"
   ]
  }
 ],
 "metadata": {
  "kernelspec": {
   "display_name": "Python 3",
   "language": "python",
   "name": "python3"
  },
  "language_info": {
   "codemirror_mode": {
    "name": "ipython",
    "version": 3
   },
   "file_extension": ".py",
   "mimetype": "text/x-python",
   "name": "python",
   "nbconvert_exporter": "python",
   "pygments_lexer": "ipython3",
   "version": "3.6.4"
  }
 },
 "nbformat": 4,
 "nbformat_minor": 2
}
